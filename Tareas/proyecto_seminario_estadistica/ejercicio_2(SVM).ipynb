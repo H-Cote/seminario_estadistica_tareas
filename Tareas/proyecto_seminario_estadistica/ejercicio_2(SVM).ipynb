{
 "cells": [
  {
   "cell_type": "markdown",
   "metadata": {},
   "source": [
    "### Integrantes: \n",
    "\n",
    "* Cote Chavarría Héctor Alonso\n",
    "* García Reyes Carlos Alberto\n",
    "* Méndez Guzmán Guadalupe\n"
   ]
  },
  {
   "cell_type": "markdown",
   "metadata": {},
   "source": [
    "### Ejercicio 2 \n",
    "\n"
   ]
  },
  {
   "cell_type": "markdown",
   "metadata": {},
   "source": [
    "Ajuste una Maquina de Soporte Vectorial a los datos del ejericicio anterior.\n",
    "\n",
    "\n",
    "* Aplique OneHotEncoder a las variables categóricas.\n",
    "* Ajuste un kernel lineal\n",
    "* Compare su resultado de ese mismo subconjunto contra un modelo de regresión logı́stica.\n",
    "* De los modelos anteriores obtenga la matriz de confusión y la curva ROC.\n",
    "* Haga una optimización de hiperpametros priorizando la precisión.\n",
    "* Haga una gráfica de Precision-Recall vs Threshold\n"
   ]
  },
  {
   "cell_type": "code",
   "execution_count": 224,
   "metadata": {},
   "outputs": [],
   "source": [
    "# Omitimos los avisos que podamos generar.\n",
    "\n",
    "warnings.filterwarnings('ignore')"
   ]
  },
  {
   "cell_type": "code",
   "execution_count": 225,
   "metadata": {},
   "outputs": [],
   "source": [
    "#Cargamos las bibliotecas necesarias para el funcionamiento.\n",
    "import pandas                  as pd                     # Manejo y manipulación de dataframes.\n",
    "import scipy\n",
    "import numpy                   as np                     # Soporte matricial y vectorial.\n",
    "import matplotlib.pyplot       as plt                    # Graficos.\n",
    "import joblib\n",
    "from   sklearn.model_selection import GridSearchCV       # Optimización de hiperparametros.\n",
    "from   sklearn                 import metrics            # Metricas de validación.\n",
    "from   sklearn.model_selection import train_test_split   # Segmentación de muestra.\n",
    "from   sklearn.linear_model    import LogisticRegression # Clasificador. \n",
    "from   sklearn.impute          import SimpleImputer      \n",
    "from   sklearn.compose         import ColumnTransformer\n",
    "from   sklearn.pipeline        import Pipeline\n",
    "from   sklearn.preprocessing   import LabelEncoder\n",
    "from   sklearn.preprocessing   import OneHotEncoder,StandardScaler\n",
    "from   sklearn.preprocessing   import KBinsDiscretizer\n",
    "from   sklearn.metrics         import accuracy_score, precision_score, recall_score, f1_score"
   ]
  },
  {
   "cell_type": "code",
   "execution_count": 226,
   "metadata": {},
   "outputs": [],
   "source": [
    "# a) Ajuste un One Hot Encoder a las variables categóricas."
   ]
  },
  {
   "cell_type": "code",
   "execution_count": 227,
   "metadata": {},
   "outputs": [],
   "source": [
    "# Lo primero que haremos será cargar los datos."
   ]
  },
  {
   "cell_type": "code",
   "execution_count": 228,
   "metadata": {},
   "outputs": [
    {
     "data": {
      "text/html": [
       "<div>\n",
       "<style scoped>\n",
       "    .dataframe tbody tr th:only-of-type {\n",
       "        vertical-align: middle;\n",
       "    }\n",
       "\n",
       "    .dataframe tbody tr th {\n",
       "        vertical-align: top;\n",
       "    }\n",
       "\n",
       "    .dataframe thead th {\n",
       "        text-align: right;\n",
       "    }\n",
       "</style>\n",
       "<table border=\"1\" class=\"dataframe\">\n",
       "  <thead>\n",
       "    <tr style=\"text-align: right;\">\n",
       "      <th></th>\n",
       "      <th>TIPO PACIENTE</th>\n",
       "      <th>SEXO</th>\n",
       "      <th>OBESIDAD</th>\n",
       "      <th>DIABETES</th>\n",
       "      <th>EPOC</th>\n",
       "      <th>ASMA</th>\n",
       "      <th>CARDIOVASCULAR</th>\n",
       "      <th>RENAL CRONICA</th>\n",
       "      <th>INMUNOSUPRESION</th>\n",
       "      <th>HIPERTENSION</th>\n",
       "      <th>EDAD</th>\n",
       "    </tr>\n",
       "  </thead>\n",
       "  <tbody>\n",
       "    <tr>\n",
       "      <th>0</th>\n",
       "      <td>AMBULATORIO</td>\n",
       "      <td>MUJER</td>\n",
       "      <td>NO</td>\n",
       "      <td>NO</td>\n",
       "      <td>NO</td>\n",
       "      <td>NO</td>\n",
       "      <td>NO</td>\n",
       "      <td>NO</td>\n",
       "      <td>NO</td>\n",
       "      <td>NO</td>\n",
       "      <td>51</td>\n",
       "    </tr>\n",
       "    <tr>\n",
       "      <th>1</th>\n",
       "      <td>AMBULATORIO</td>\n",
       "      <td>MUJER</td>\n",
       "      <td>NO</td>\n",
       "      <td>NO</td>\n",
       "      <td>NO</td>\n",
       "      <td>NO</td>\n",
       "      <td>NO</td>\n",
       "      <td>NO</td>\n",
       "      <td>NO</td>\n",
       "      <td>NO</td>\n",
       "      <td>37</td>\n",
       "    </tr>\n",
       "    <tr>\n",
       "      <th>2</th>\n",
       "      <td>AMBULATORIO</td>\n",
       "      <td>HOMBRE</td>\n",
       "      <td>NO</td>\n",
       "      <td>NO</td>\n",
       "      <td>NO</td>\n",
       "      <td>NO</td>\n",
       "      <td>NO</td>\n",
       "      <td>NO</td>\n",
       "      <td>NO</td>\n",
       "      <td>NO</td>\n",
       "      <td>18</td>\n",
       "    </tr>\n",
       "    <tr>\n",
       "      <th>3</th>\n",
       "      <td>AMBULATORIO</td>\n",
       "      <td>HOMBRE</td>\n",
       "      <td>NO</td>\n",
       "      <td>NO</td>\n",
       "      <td>NO</td>\n",
       "      <td>NO</td>\n",
       "      <td>NO</td>\n",
       "      <td>NO</td>\n",
       "      <td>NO</td>\n",
       "      <td>NO</td>\n",
       "      <td>40</td>\n",
       "    </tr>\n",
       "    <tr>\n",
       "      <th>4</th>\n",
       "      <td>HOSPITALIZADO</td>\n",
       "      <td>MUJER</td>\n",
       "      <td>NO</td>\n",
       "      <td>SI</td>\n",
       "      <td>NO</td>\n",
       "      <td>NO</td>\n",
       "      <td>NO</td>\n",
       "      <td>SI</td>\n",
       "      <td>NO</td>\n",
       "      <td>SI</td>\n",
       "      <td>78</td>\n",
       "    </tr>\n",
       "    <tr>\n",
       "      <th>5</th>\n",
       "      <td>AMBULATORIO</td>\n",
       "      <td>HOMBRE</td>\n",
       "      <td>NO</td>\n",
       "      <td>NO</td>\n",
       "      <td>NO</td>\n",
       "      <td>NO</td>\n",
       "      <td>NO</td>\n",
       "      <td>NO</td>\n",
       "      <td>NO</td>\n",
       "      <td>NO</td>\n",
       "      <td>67</td>\n",
       "    </tr>\n",
       "    <tr>\n",
       "      <th>6</th>\n",
       "      <td>AMBULATORIO</td>\n",
       "      <td>MUJER</td>\n",
       "      <td>NO</td>\n",
       "      <td>NO</td>\n",
       "      <td>NO</td>\n",
       "      <td>NO</td>\n",
       "      <td>NO</td>\n",
       "      <td>NO</td>\n",
       "      <td>NO</td>\n",
       "      <td>NO</td>\n",
       "      <td>8</td>\n",
       "    </tr>\n",
       "    <tr>\n",
       "      <th>7</th>\n",
       "      <td>AMBULATORIO</td>\n",
       "      <td>HOMBRE</td>\n",
       "      <td>NO</td>\n",
       "      <td>NO</td>\n",
       "      <td>NO</td>\n",
       "      <td>NO</td>\n",
       "      <td>NO</td>\n",
       "      <td>NO</td>\n",
       "      <td>NO</td>\n",
       "      <td>NO</td>\n",
       "      <td>38</td>\n",
       "    </tr>\n",
       "    <tr>\n",
       "      <th>8</th>\n",
       "      <td>AMBULATORIO</td>\n",
       "      <td>MUJER</td>\n",
       "      <td>NO</td>\n",
       "      <td>NO</td>\n",
       "      <td>NO</td>\n",
       "      <td>NO</td>\n",
       "      <td>NO</td>\n",
       "      <td>NO</td>\n",
       "      <td>NO</td>\n",
       "      <td>NO</td>\n",
       "      <td>31</td>\n",
       "    </tr>\n",
       "    <tr>\n",
       "      <th>9</th>\n",
       "      <td>AMBULATORIO</td>\n",
       "      <td>HOMBRE</td>\n",
       "      <td>NO</td>\n",
       "      <td>NO</td>\n",
       "      <td>NO</td>\n",
       "      <td>NO</td>\n",
       "      <td>NO</td>\n",
       "      <td>NO</td>\n",
       "      <td>NO</td>\n",
       "      <td>NO</td>\n",
       "      <td>32</td>\n",
       "    </tr>\n",
       "  </tbody>\n",
       "</table>\n",
       "</div>"
      ],
      "text/plain": [
       "   TIPO PACIENTE    SEXO OBESIDAD DIABETES EPOC ASMA CARDIOVASCULAR  \\\n",
       "0    AMBULATORIO   MUJER       NO       NO   NO   NO             NO   \n",
       "1    AMBULATORIO   MUJER       NO       NO   NO   NO             NO   \n",
       "2    AMBULATORIO  HOMBRE       NO       NO   NO   NO             NO   \n",
       "3    AMBULATORIO  HOMBRE       NO       NO   NO   NO             NO   \n",
       "4  HOSPITALIZADO   MUJER       NO       SI   NO   NO             NO   \n",
       "5    AMBULATORIO  HOMBRE       NO       NO   NO   NO             NO   \n",
       "6    AMBULATORIO   MUJER       NO       NO   NO   NO             NO   \n",
       "7    AMBULATORIO  HOMBRE       NO       NO   NO   NO             NO   \n",
       "8    AMBULATORIO   MUJER       NO       NO   NO   NO             NO   \n",
       "9    AMBULATORIO  HOMBRE       NO       NO   NO   NO             NO   \n",
       "\n",
       "  RENAL CRONICA INMUNOSUPRESION HIPERTENSION  EDAD  \n",
       "0            NO              NO           NO    51  \n",
       "1            NO              NO           NO    37  \n",
       "2            NO              NO           NO    18  \n",
       "3            NO              NO           NO    40  \n",
       "4            SI              NO           SI    78  \n",
       "5            NO              NO           NO    67  \n",
       "6            NO              NO           NO     8  \n",
       "7            NO              NO           NO    38  \n",
       "8            NO              NO           NO    31  \n",
       "9            NO              NO           NO    32  "
      ]
     },
     "execution_count": 228,
     "metadata": {},
     "output_type": "execute_result"
    }
   ],
   "source": [
    "import pandas as pd\n",
    "import io\n",
    "import matplotlib.pyplot as plt\n",
    "import pandas as pd\n",
    "import seaborn as sns\n",
    "import warnings\n",
    "\n",
    "path ='C:/Users/Yo/Desktop/2do Semestre 2020/Multivariado/covid.csv'\n",
    "covid = pd.read_csv(path)\n",
    "covid.head(10)"
   ]
  },
  {
   "cell_type": "code",
   "execution_count": 230,
   "metadata": {},
   "outputs": [
    {
     "name": "stdout",
     "output_type": "stream",
     "text": [
      "      TIPO PACIENTE    SEXO OBESIDAD DIABETES EPOC ASMA CARDIOVASCULAR  \\\n",
      "0       AMBULATORIO   MUJER       NO       NO   NO   NO             NO   \n",
      "1       AMBULATORIO   MUJER       NO       NO   NO   NO             NO   \n",
      "2       AMBULATORIO  HOMBRE       NO       NO   NO   NO             NO   \n",
      "3       AMBULATORIO  HOMBRE       NO       NO   NO   NO             NO   \n",
      "4     HOSPITALIZADO   MUJER       NO       SI   NO   NO             NO   \n",
      "...             ...     ...      ...      ...  ...  ...            ...   \n",
      "4995  HOSPITALIZADO   MUJER       NO       NO   SI   NO             NO   \n",
      "4996    AMBULATORIO  HOMBRE       SI       NO   NO   NO             NO   \n",
      "4997  HOSPITALIZADO  HOMBRE       NO       NO   NO   NO             NO   \n",
      "4998  HOSPITALIZADO  HOMBRE       NO       NO   NO   NO             NO   \n",
      "4999  HOSPITALIZADO  HOMBRE       NO       SI   NO   NO             NO   \n",
      "\n",
      "     RENAL CRONICA INMUNOSUPRESION HIPERTENSION  EDAD  \n",
      "0               NO              NO           NO    51  \n",
      "1               NO              NO           NO    37  \n",
      "2               NO              NO           NO    18  \n",
      "3               NO              NO           NO    40  \n",
      "4               SI              NO           SI    78  \n",
      "...            ...             ...          ...   ...  \n",
      "4995            NO              NO           SI    63  \n",
      "4996            NO              NO           NO    49  \n",
      "4997            NO              NO           NO    62  \n",
      "4998            NO              NO           NO    61  \n",
      "4999            NO              NO           NO    70  \n",
      "\n",
      "[5000 rows x 11 columns]\n"
     ]
    }
   ],
   "source": [
    "# Seleccionamos 5000 observaciones.\n",
    "covid_2 = covid.iloc[0:5000]\n",
    "\n",
    "print(covid_2)"
   ]
  },
  {
   "cell_type": "code",
   "execution_count": 231,
   "metadata": {},
   "outputs": [
    {
     "data": {
      "image/png": "[encoded data removed]",
      "text/plain": [
       "<Figure size 180x180 with 2 Axes>"
      ]
     },
     "metadata": {},
     "output_type": "display_data"
    }
   ],
   "source": [
    "#Observamos el comportamiento de nuestra única variable numérica.\n",
    "\n",
    "import seaborn as sns\n",
    "import matplotlib.pyplot as plt\n",
    "plt.style.use('ggplot')\n",
    "\n",
    "smp = sns.pairplot(covid_2)"
   ]
  },
  {
   "cell_type": "code",
   "execution_count": 232,
   "metadata": {},
   "outputs": [],
   "source": [
    "# Dado nuestro histograma observamos que existe la posisblidad de contar con individuos mayores a 100 años.\n",
    "# que podrían sesgar nuestros resultados, por lo cual eliminaremos datos con edades mayores a 100 años."
   ]
  },
  {
   "cell_type": "code",
   "execution_count": 233,
   "metadata": {},
   "outputs": [],
   "source": [
    "covid_3=covid_2.query(\"EDAD<100\")"
   ]
  },
  {
   "cell_type": "code",
   "execution_count": 234,
   "metadata": {},
   "outputs": [],
   "source": [
    "# Observamos la proporción de pacientes ambulatorios y hospitalizados."
   ]
  },
  {
   "cell_type": "code",
   "execution_count": 235,
   "metadata": {},
   "outputs": [
    {
     "data": {
      "text/plain": [
       "AMBULATORIO      3368\n",
       "HOSPITALIZADO    1631\n",
       "Name: TIPO PACIENTE, dtype: int64"
      ]
     },
     "execution_count": 235,
     "metadata": {},
     "output_type": "execute_result"
    }
   ],
   "source": [
    "covid_3[\"TIPO PACIENTE\"].value_counts()"
   ]
  },
  {
   "cell_type": "code",
   "execution_count": 236,
   "metadata": {},
   "outputs": [
    {
     "data": {
      "text/html": [
       "<div>\n",
       "<style scoped>\n",
       "    .dataframe tbody tr th:only-of-type {\n",
       "        vertical-align: middle;\n",
       "    }\n",
       "\n",
       "    .dataframe tbody tr th {\n",
       "        vertical-align: top;\n",
       "    }\n",
       "\n",
       "    .dataframe thead th {\n",
       "        text-align: right;\n",
       "    }\n",
       "</style>\n",
       "<table border=\"1\" class=\"dataframe\">\n",
       "  <thead>\n",
       "    <tr style=\"text-align: right;\">\n",
       "      <th></th>\n",
       "      <th>TIPO PACIENTE</th>\n",
       "      <th>SEXO</th>\n",
       "      <th>OBESIDAD</th>\n",
       "      <th>DIABETES</th>\n",
       "      <th>EPOC</th>\n",
       "      <th>ASMA</th>\n",
       "      <th>CARDIOVASCULAR</th>\n",
       "      <th>RENAL CRONICA</th>\n",
       "      <th>INMUNOSUPRESION</th>\n",
       "      <th>HIPERTENSION</th>\n",
       "    </tr>\n",
       "  </thead>\n",
       "  <tbody>\n",
       "    <tr>\n",
       "      <th>0</th>\n",
       "      <td>AMBULATORIO</td>\n",
       "      <td>MUJER</td>\n",
       "      <td>NO</td>\n",
       "      <td>NO</td>\n",
       "      <td>NO</td>\n",
       "      <td>NO</td>\n",
       "      <td>NO</td>\n",
       "      <td>NO</td>\n",
       "      <td>NO</td>\n",
       "      <td>NO</td>\n",
       "    </tr>\n",
       "    <tr>\n",
       "      <th>1</th>\n",
       "      <td>AMBULATORIO</td>\n",
       "      <td>MUJER</td>\n",
       "      <td>NO</td>\n",
       "      <td>NO</td>\n",
       "      <td>NO</td>\n",
       "      <td>NO</td>\n",
       "      <td>NO</td>\n",
       "      <td>NO</td>\n",
       "      <td>NO</td>\n",
       "      <td>NO</td>\n",
       "    </tr>\n",
       "    <tr>\n",
       "      <th>2</th>\n",
       "      <td>AMBULATORIO</td>\n",
       "      <td>HOMBRE</td>\n",
       "      <td>NO</td>\n",
       "      <td>NO</td>\n",
       "      <td>NO</td>\n",
       "      <td>NO</td>\n",
       "      <td>NO</td>\n",
       "      <td>NO</td>\n",
       "      <td>NO</td>\n",
       "      <td>NO</td>\n",
       "    </tr>\n",
       "  </tbody>\n",
       "</table>\n",
       "</div>"
      ],
      "text/plain": [
       "  TIPO PACIENTE    SEXO OBESIDAD DIABETES EPOC ASMA CARDIOVASCULAR  \\\n",
       "0   AMBULATORIO   MUJER       NO       NO   NO   NO             NO   \n",
       "1   AMBULATORIO   MUJER       NO       NO   NO   NO             NO   \n",
       "2   AMBULATORIO  HOMBRE       NO       NO   NO   NO             NO   \n",
       "\n",
       "  RENAL CRONICA INMUNOSUPRESION HIPERTENSION  \n",
       "0            NO              NO           NO  \n",
       "1            NO              NO           NO  \n",
       "2            NO              NO           NO  "
      ]
     },
     "execution_count": 236,
     "metadata": {},
     "output_type": "execute_result"
    }
   ],
   "source": [
    "# Realizamos One Hot Encoder a las variables categóricas.\n",
    "# Seleccionamos solo variables categóricas.\n",
    "\n",
    "X_10 = covid_3.select_dtypes(include=[object])\n",
    "X_10.head(3)\n",
    "\n"
   ]
  },
  {
   "cell_type": "code",
   "execution_count": 237,
   "metadata": {},
   "outputs": [
    {
     "data": {
      "text/plain": [
       "(4999, 11)"
      ]
     },
     "execution_count": 237,
     "metadata": {},
     "output_type": "execute_result"
    }
   ],
   "source": [
    "# Revisamos nuestro dataset.\n",
    "covid_3.shape"
   ]
  },
  {
   "cell_type": "code",
   "execution_count": 238,
   "metadata": {},
   "outputs": [
    {
     "data": {
      "text/plain": [
       "Index(['TIPO PACIENTE', 'SEXO', 'OBESIDAD', 'DIABETES', 'EPOC', 'ASMA',\n",
       "       'CARDIOVASCULAR', 'RENAL CRONICA', 'INMUNOSUPRESION', 'HIPERTENSION',\n",
       "       'EDAD'],\n",
       "      dtype='object')"
      ]
     },
     "execution_count": 238,
     "metadata": {},
     "output_type": "execute_result"
    }
   ],
   "source": [
    "from sklearn import preprocessing\n",
    "covid_3.columns"
   ]
  },
  {
   "cell_type": "code",
   "execution_count": 239,
   "metadata": {},
   "outputs": [
    {
     "data": {
      "text/html": [
       "<div>\n",
       "<style scoped>\n",
       "    .dataframe tbody tr th:only-of-type {\n",
       "        vertical-align: middle;\n",
       "    }\n",
       "\n",
       "    .dataframe tbody tr th {\n",
       "        vertical-align: top;\n",
       "    }\n",
       "\n",
       "    .dataframe thead th {\n",
       "        text-align: right;\n",
       "    }\n",
       "</style>\n",
       "<table border=\"1\" class=\"dataframe\">\n",
       "  <thead>\n",
       "    <tr style=\"text-align: right;\">\n",
       "      <th></th>\n",
       "      <th>TIPO PACIENTE</th>\n",
       "      <th>SEXO</th>\n",
       "      <th>OBESIDAD</th>\n",
       "      <th>DIABETES</th>\n",
       "      <th>EPOC</th>\n",
       "      <th>ASMA</th>\n",
       "      <th>CARDIOVASCULAR</th>\n",
       "      <th>RENAL CRONICA</th>\n",
       "      <th>INMUNOSUPRESION</th>\n",
       "      <th>HIPERTENSION</th>\n",
       "      <th>EDAD</th>\n",
       "    </tr>\n",
       "  </thead>\n",
       "  <tbody>\n",
       "    <tr>\n",
       "      <th>0</th>\n",
       "      <td>0</td>\n",
       "      <td>1</td>\n",
       "      <td>0</td>\n",
       "      <td>0</td>\n",
       "      <td>0</td>\n",
       "      <td>0</td>\n",
       "      <td>0</td>\n",
       "      <td>0</td>\n",
       "      <td>0</td>\n",
       "      <td>0</td>\n",
       "      <td>51</td>\n",
       "    </tr>\n",
       "    <tr>\n",
       "      <th>1</th>\n",
       "      <td>0</td>\n",
       "      <td>1</td>\n",
       "      <td>0</td>\n",
       "      <td>0</td>\n",
       "      <td>0</td>\n",
       "      <td>0</td>\n",
       "      <td>0</td>\n",
       "      <td>0</td>\n",
       "      <td>0</td>\n",
       "      <td>0</td>\n",
       "      <td>37</td>\n",
       "    </tr>\n",
       "    <tr>\n",
       "      <th>2</th>\n",
       "      <td>0</td>\n",
       "      <td>0</td>\n",
       "      <td>0</td>\n",
       "      <td>0</td>\n",
       "      <td>0</td>\n",
       "      <td>0</td>\n",
       "      <td>0</td>\n",
       "      <td>0</td>\n",
       "      <td>0</td>\n",
       "      <td>0</td>\n",
       "      <td>18</td>\n",
       "    </tr>\n",
       "    <tr>\n",
       "      <th>3</th>\n",
       "      <td>0</td>\n",
       "      <td>0</td>\n",
       "      <td>0</td>\n",
       "      <td>0</td>\n",
       "      <td>0</td>\n",
       "      <td>0</td>\n",
       "      <td>0</td>\n",
       "      <td>0</td>\n",
       "      <td>0</td>\n",
       "      <td>0</td>\n",
       "      <td>40</td>\n",
       "    </tr>\n",
       "    <tr>\n",
       "      <th>4</th>\n",
       "      <td>1</td>\n",
       "      <td>1</td>\n",
       "      <td>0</td>\n",
       "      <td>1</td>\n",
       "      <td>0</td>\n",
       "      <td>0</td>\n",
       "      <td>0</td>\n",
       "      <td>1</td>\n",
       "      <td>0</td>\n",
       "      <td>1</td>\n",
       "      <td>78</td>\n",
       "    </tr>\n",
       "  </tbody>\n",
       "</table>\n",
       "</div>"
      ],
      "text/plain": [
       "   TIPO PACIENTE  SEXO  OBESIDAD  DIABETES  EPOC  ASMA  CARDIOVASCULAR  \\\n",
       "0              0     1         0         0     0     0               0   \n",
       "1              0     1         0         0     0     0               0   \n",
       "2              0     0         0         0     0     0               0   \n",
       "3              0     0         0         0     0     0               0   \n",
       "4              1     1         0         1     0     0               0   \n",
       "\n",
       "   RENAL CRONICA  INMUNOSUPRESION  HIPERTENSION  EDAD  \n",
       "0              0                0             0    51  \n",
       "1              0                0             0    37  \n",
       "2              0                0             0    18  \n",
       "3              0                0             0    40  \n",
       "4              1                0             1    78  "
      ]
     },
     "execution_count": 239,
     "metadata": {},
     "output_type": "execute_result"
    }
   ],
   "source": [
    "le = preprocessing.LabelEncoder()\n",
    "covid_4 = covid_3.apply(le.fit_transform)\n",
    "covid_4.head()"
   ]
  },
  {
   "cell_type": "code",
   "execution_count": 240,
   "metadata": {},
   "outputs": [],
   "source": [
    "# Observemos como nuestro One Hot Encoder ha Realizado lo mismo que si hubieramos considera:\n",
    "# covid_4=covid_3.replace({\"NO\": 0, \"SI\": 1, \"MUJER\":1, \"HOMBRE\":0, \"AMBULATORIO\":0,\"HOSPITALIZADO\":1})\n",
    "# covid_4.head()"
   ]
  },
  {
   "cell_type": "code",
   "execution_count": 241,
   "metadata": {},
   "outputs": [
    {
     "name": "stdout",
     "output_type": "stream",
     "text": [
      "      SEXO  OBESIDAD  DIABETES  EPOC  ASMA  CARDIOVASCULAR  RENAL CRONICA  \\\n",
      "0        1         0         0     0     0               0              0   \n",
      "1        1         0         0     0     0               0              0   \n",
      "2        0         0         0     0     0               0              0   \n",
      "3        0         0         0     0     0               0              0   \n",
      "4        1         0         1     0     0               0              1   \n",
      "...    ...       ...       ...   ...   ...             ...            ...   \n",
      "4995     1         0         0     1     0               0              0   \n",
      "4996     0         1         0     0     0               0              0   \n",
      "4997     0         0         0     0     0               0              0   \n",
      "4998     0         0         0     0     0               0              0   \n",
      "4999     0         0         1     0     0               0              0   \n",
      "\n",
      "      INMUNOSUPRESION  HIPERTENSION  EDAD  \n",
      "0                   0             0    51  \n",
      "1                   0             0    37  \n",
      "2                   0             0    18  \n",
      "3                   0             0    40  \n",
      "4                   0             1    78  \n",
      "...               ...           ...   ...  \n",
      "4995                0             1    63  \n",
      "4996                0             0    49  \n",
      "4997                0             0    62  \n",
      "4998                0             0    61  \n",
      "4999                0             0    70  \n",
      "\n",
      "[4999 rows x 10 columns]\n"
     ]
    }
   ],
   "source": [
    "# Dividimos el set en X.\n",
    "# covid_X = covid_2.iloc[:,2:12].values\n",
    "covid_X = covid_4.iloc[:,1:12]\n",
    "print(covid_X)"
   ]
  },
  {
   "cell_type": "code",
   "execution_count": 242,
   "metadata": {},
   "outputs": [
    {
     "name": "stdout",
     "output_type": "stream",
     "text": [
      "      TIPO PACIENTE\n",
      "0                 0\n",
      "1                 0\n",
      "2                 0\n",
      "3                 0\n",
      "4                 1\n",
      "...             ...\n",
      "4995              1\n",
      "4996              0\n",
      "4997              1\n",
      "4998              1\n",
      "4999              1\n",
      "\n",
      "[4999 rows x 1 columns]\n"
     ]
    }
   ],
   "source": [
    "#Dividimos el set en Y.\n",
    "#covid_Y = covid_3.iloc[:,0:1].values\n",
    "covid_Y = covid_4.iloc[:,0:1]\n",
    "print(covid_Y)"
   ]
  },
  {
   "cell_type": "code",
   "execution_count": 243,
   "metadata": {},
   "outputs": [],
   "source": [
    "# b) Ajuste un Kernel Lineal."
   ]
  },
  {
   "cell_type": "code",
   "execution_count": 244,
   "metadata": {},
   "outputs": [],
   "source": [
    "# Dividimos el dataset en entrenamiento y prueba.\n",
    "from sklearn.model_selection import train_test_split\n",
    "\n",
    "X_train_1, X_test_1, y_train_1, y_test_1 = train_test_split(covid_X, covid_Y, test_size = 0.20)"
   ]
  },
  {
   "cell_type": "code",
   "execution_count": 245,
   "metadata": {},
   "outputs": [],
   "source": [
    "# Formamos un Kernel Lineal.\n",
    "from sklearn.svm import LinearSVC\n",
    "from sklearn.calibration import CalibratedClassifierCV\n",
    "svm = LinearSVC()\n",
    "clf = CalibratedClassifierCV(svm) \n",
    "clf.fit(X_train_1, y_train_1)\n",
    "y_proba = clf.predict_proba(X_test_1)"
   ]
  },
  {
   "cell_type": "code",
   "execution_count": 246,
   "metadata": {},
   "outputs": [
    {
     "data": {
      "text/plain": [
       "(1000, 1)"
      ]
     },
     "execution_count": 246,
     "metadata": {},
     "output_type": "execute_result"
    }
   ],
   "source": [
    "# Observamos los resultados.\n",
    "y_test_1.shape"
   ]
  },
  {
   "cell_type": "code",
   "execution_count": 247,
   "metadata": {},
   "outputs": [
    {
     "data": {
      "text/plain": [
       "(1000, 2)"
      ]
     },
     "execution_count": 247,
     "metadata": {},
     "output_type": "execute_result"
    }
   ],
   "source": [
    "# Observamos los resultados.\n",
    "y_proba.shape"
   ]
  },
  {
   "cell_type": "code",
   "execution_count": 248,
   "metadata": {},
   "outputs": [
    {
     "data": {
      "text/plain": [
       "array([[0.75679012, 0.34736842],\n",
       "       [0.24320988, 0.65263158]])"
      ]
     },
     "execution_count": 248,
     "metadata": {},
     "output_type": "execute_result"
    },
    {
     "data": {
      "image/png": "[encoded data removed]",
      "text/plain": [
       "<Figure size 432x288 with 2 Axes>"
      ]
     },
     "metadata": {},
     "output_type": "display_data"
    }
   ],
   "source": [
    "# D.1) Obtenga la matriz de confusión.\n",
    "\n",
    "import numpy as np\n",
    "from sklearn import svm\n",
    "from sklearn.datasets import make_blobs\n",
    "import matplotlib.pyplot as plt\n",
    "from sklearn import datasets\n",
    "from   sklearn.model_selection import train_test_split\n",
    "from sklearn import metrics\n",
    "\n",
    "disp=metrics.plot_confusion_matrix(clf, X_test_1, y_test_1,normalize=\"pred\")\n",
    "disp.ax_.set_title(\"Matriz de Confusión\")\n",
    "disp.confusion_matrix"
   ]
  },
  {
   "cell_type": "code",
   "execution_count": 249,
   "metadata": {},
   "outputs": [],
   "source": [
    "# D.1) Obtenga la curva ROC.\n",
    "probs = clf.predict_proba(X_test_1)\n",
    "preds = probs[:,1]\n",
    "fpr, tpr, threshold = metrics.roc_curve(y_test_1, preds)\n",
    "roc_auc = metrics.auc(fpr, tpr)"
   ]
  },
  {
   "cell_type": "code",
   "execution_count": 251,
   "metadata": {},
   "outputs": [
    {
     "data": {
      "image/png": "[encoded data removed]",
      "text/plain": [
       "<Figure size 432x288 with 1 Axes>"
      ]
     },
     "metadata": {},
     "output_type": "display_data"
    }
   ],
   "source": [
    "plt.figure()\n",
    "plt.plot(fpr, tpr, label='GridSearchCV (area = %0.2f)' % roc_auc)\n",
    "plt.plot([0, 1], [0, 1],'r--')\n",
    "plt.xlim([0.0, 1.0])\n",
    "plt.ylim([0.0, 1.05])\n",
    "plt.xlabel('Tasa de falsos positivos')\n",
    "plt.ylabel('Tasa de verdaderos positivos')\n",
    "plt.title('curva ROC')\n",
    "plt.legend(loc=\"lower right\")\n",
    "plt.savefig('Linear_ROC')\n",
    "plt.show()"
   ]
  },
  {
   "cell_type": "code",
   "execution_count": 252,
   "metadata": {},
   "outputs": [
    {
     "name": "stdout",
     "output_type": "stream",
     "text": [
      "Accuracy score:  0.737\n",
      "Precision score:  0.6526315789473685\n",
      "Recall score:  0.3862928348909657\n",
      "F1 score:  0.48532289628180036\n"
     ]
    }
   ],
   "source": [
    "# Información adicional del modelo.\n",
    "\n",
    "predictions=clf.predict(X_test_1)\n",
    "print('Accuracy score: ', format(accuracy_score(y_test_1, predictions)))\n",
    "print('Precision score: ', format(precision_score(y_test_1, predictions)))\n",
    "print('Recall score: ', format(recall_score(y_test_1, predictions)))\n",
    "print('F1 score: ', format(f1_score(y_test_1, predictions)))"
   ]
  },
  {
   "cell_type": "code",
   "execution_count": 253,
   "metadata": {},
   "outputs": [],
   "source": [
    "# b) Ajuste un modelo de regresión logistica.\n",
    "\n",
    "import pandas as pd\n",
    "from sklearn.preprocessing import LabelEncoder\n",
    "from sklearn.linear_model import LogisticRegression\n",
    "import warnings\n",
    "from sklearn.model_selection import train_test_split\n",
    "from sklearn.metrics import accuracy_score\n",
    "import pylab as mp\n",
    "import numpy as np\n",
    "import matplotlib.pyplot as plt\n",
    "from statsmodels.discrete.discrete_model import Logit\n",
    "from statsmodels.tools.tools import add_constant\n",
    "\n",
    "model_log=LogisticRegression(C=1,solver='newton-cg',max_iter =10000).fit(X_train_1,y_train_1)\n",
    "y_proba_2 = model_log.predict_proba(X_test_1)\n"
   ]
  },
  {
   "cell_type": "code",
   "execution_count": 255,
   "metadata": {},
   "outputs": [
    {
     "data": {
      "text/plain": [
       "(1000, 1)"
      ]
     },
     "execution_count": 255,
     "metadata": {},
     "output_type": "execute_result"
    }
   ],
   "source": [
    "# Observamos los resultados.\n",
    "y_test_1.shape"
   ]
  },
  {
   "cell_type": "code",
   "execution_count": 256,
   "metadata": {},
   "outputs": [
    {
     "data": {
      "text/plain": [
       "(1000, 2)"
      ]
     },
     "execution_count": 256,
     "metadata": {},
     "output_type": "execute_result"
    }
   ],
   "source": [
    "# Observamos los resultados.\n",
    "y_proba_2.shape"
   ]
  },
  {
   "cell_type": "code",
   "execution_count": 258,
   "metadata": {},
   "outputs": [
    {
     "data": {
      "text/plain": [
       "array([[0.78858625, 0.31004367],\n",
       "       [0.21141375, 0.68995633]])"
      ]
     },
     "execution_count": 258,
     "metadata": {},
     "output_type": "execute_result"
    },
    {
     "data": {
      "image/png": "[encoded data removed]",
      "text/plain": [
       "<Figure size 432x288 with 2 Axes>"
      ]
     },
     "metadata": {},
     "output_type": "display_data"
    }
   ],
   "source": [
    "# D.2) Obtenga la matriz de confusión.\n",
    "\n",
    "import numpy as np\n",
    "from sklearn import svm\n",
    "from sklearn.datasets import make_blobs\n",
    "import matplotlib.pyplot as plt\n",
    "from sklearn import datasets\n",
    "from   sklearn.model_selection import train_test_split\n",
    "from sklearn import metrics\n",
    "\n",
    "disp=metrics.plot_confusion_matrix(model_log, X_test_1, y_test_1,normalize=\"pred\")\n",
    "disp.ax_.set_title(\"Matriz de Confusión\")\n",
    "disp.confusion_matrix"
   ]
  },
  {
   "cell_type": "code",
   "execution_count": 259,
   "metadata": {},
   "outputs": [],
   "source": [
    "# D.2) Obtenga la curva ROC.\n",
    "probs = model_log.predict_proba(X_test_1)\n",
    "preds = probs[:,1]\n",
    "fpr, tpr, threshold = metrics.roc_curve(y_test_1, preds)\n",
    "roc_auc = metrics.auc(fpr, tpr)"
   ]
  },
  {
   "cell_type": "code",
   "execution_count": 260,
   "metadata": {},
   "outputs": [
    {
     "data": {
      "image/png": "[encoded data removed]",
      "text/plain": [
       "<Figure size 432x288 with 1 Axes>"
      ]
     },
     "metadata": {},
     "output_type": "display_data"
    }
   ],
   "source": [
    "plt.figure()\n",
    "plt.plot(fpr, tpr, label='GridSearchCV (area = %0.2f)' % roc_auc)\n",
    "plt.plot([0, 1], [0, 1],'r--')\n",
    "plt.xlim([0.0, 1.0])\n",
    "plt.ylim([0.0, 1.05])\n",
    "plt.xlabel('Tasa de falsos positivos')\n",
    "plt.ylabel('Tasa de verdaderos positivos')\n",
    "plt.title('curva ROC')\n",
    "plt.legend(loc=\"lower right\")\n",
    "plt.savefig('Log_ROC')\n",
    "plt.show()"
   ]
  },
  {
   "cell_type": "code",
   "execution_count": 261,
   "metadata": {},
   "outputs": [
    {
     "name": "stdout",
     "output_type": "stream",
     "text": [
      "Accuracy score:  0.766\n",
      "Precision score:  0.6899563318777293\n",
      "Recall score:  0.49221183800623053\n",
      "F1 score:  0.5745454545454545\n"
     ]
    }
   ],
   "source": [
    "# Información adicional del modelo\n",
    "\n",
    "predictions=model_log.predict(X_test_1)\n",
    "print('Accuracy score: ', format(accuracy_score(y_test_1, predictions)))\n",
    "print('Precision score: ', format(precision_score(y_test_1, predictions)))\n",
    "print('Recall score: ', format(recall_score(y_test_1, predictions)))\n",
    "print('F1 score: ', format(f1_score(y_test_1, predictions)))"
   ]
  },
  {
   "cell_type": "code",
   "execution_count": 269,
   "metadata": {},
   "outputs": [
    {
     "name": "stdout",
     "output_type": "stream",
     "text": [
      "Requirement already satisfied: joblib in c:\\users\\yo\\anaconda3\\lib\\site-packages (0.16.0)\n"
     ]
    }
   ],
   "source": [
    "!pip install joblib"
   ]
  },
  {
   "cell_type": "code",
   "execution_count": 270,
   "metadata": {},
   "outputs": [],
   "source": [
    "# E) Haga una optimización de hiperparámetros priorizando la precisión.\n",
    "# En clase se comentó que el presente ejercicio y el siguiente se deben de ejercer sobre el modelo de regresión log.\n",
    "\n",
    "#crea un pipeline para generar el modelo\n",
    "def modelo(X_train, y_train,numeric_features,categorical_features):\n",
    "    numeric_transformer = Pipeline(steps=[\n",
    "    ('imputer', KBinsDiscretizer(n_bins=5, encode='ordinal', strategy='quantile'))])\n",
    "    categorical_transformer = Pipeline(steps=[\n",
    "        #imputacion por el valor más frecuente\n",
    "    ('imputer', SimpleImputer(strategy='most_frequent', fill_value='missing')),\n",
    "    #onehot encoder para las varibales categoricas    \n",
    "    ('onehot', OneHotEncoder(handle_unknown='ignore'))])\n",
    "    preprocessor = ColumnTransformer(\n",
    "    transformers=[\n",
    "        ('num', numeric_transformer, numeric_features),\n",
    "        ('cat', categorical_transformer, categorical_features)])\n",
    "    #el pipeline con el procesamienot y el claificador\n",
    "    clf = Pipeline(steps=[('preprocessor', preprocessor),\n",
    "                      ('classifier', gridsearh())])\n",
    "    modelo=clf.fit(X_train, y_train)\n",
    "    return modelo\n",
    "\n",
    "\n"
   ]
  },
  {
   "cell_type": "code",
   "execution_count": 271,
   "metadata": {},
   "outputs": [],
   "source": [
    "# El grid search prueba con varios modelos usando holdout 70-30.\n",
    "def gridsearh():\n",
    "    clf = LogisticRegression(fit_intercept=True,solver='lbfgs',tol=1e-5,max_iter=75,n_jobs=8)\n",
    "    grid_values = {'penalty': [ 'l2'],'C':np.logspace(-5, 5, 100)}\n",
    "    \"\"\"se evalúan todas las combinaciones posibles de valores de parámetros y \n",
    "    se conserva la mejor combinacion.\"\"\"   \n",
    "    grid_clf_acc = GridSearchCV(clf, param_grid = grid_values,scoring = 'precision')\n",
    "    return grid_clf_acc"
   ]
  },
  {
   "cell_type": "code",
   "execution_count": 272,
   "metadata": {},
   "outputs": [
    {
     "data": {
      "text/html": [
       "<div>\n",
       "<style scoped>\n",
       "    .dataframe tbody tr th:only-of-type {\n",
       "        vertical-align: middle;\n",
       "    }\n",
       "\n",
       "    .dataframe tbody tr th {\n",
       "        vertical-align: top;\n",
       "    }\n",
       "\n",
       "    .dataframe thead th {\n",
       "        text-align: right;\n",
       "    }\n",
       "</style>\n",
       "<table border=\"1\" class=\"dataframe\">\n",
       "  <thead>\n",
       "    <tr style=\"text-align: right;\">\n",
       "      <th></th>\n",
       "      <th>SEXO</th>\n",
       "      <th>OBESIDAD</th>\n",
       "      <th>DIABETES</th>\n",
       "      <th>EPOC</th>\n",
       "      <th>ASMA</th>\n",
       "      <th>CARDIOVASCULAR</th>\n",
       "      <th>RENAL CRONICA</th>\n",
       "      <th>INMUNOSUPRESION</th>\n",
       "      <th>HIPERTENSION</th>\n",
       "      <th>EDAD</th>\n",
       "    </tr>\n",
       "  </thead>\n",
       "  <tbody>\n",
       "    <tr>\n",
       "      <th>0</th>\n",
       "      <td>MUJER</td>\n",
       "      <td>NO</td>\n",
       "      <td>NO</td>\n",
       "      <td>NO</td>\n",
       "      <td>NO</td>\n",
       "      <td>NO</td>\n",
       "      <td>NO</td>\n",
       "      <td>NO</td>\n",
       "      <td>NO</td>\n",
       "      <td>51</td>\n",
       "    </tr>\n",
       "  </tbody>\n",
       "</table>\n",
       "</div>"
      ],
      "text/plain": [
       "    SEXO OBESIDAD DIABETES EPOC ASMA CARDIOVASCULAR RENAL CRONICA  \\\n",
       "0  MUJER       NO       NO   NO   NO             NO            NO   \n",
       "\n",
       "  INMUNOSUPRESION HIPERTENSION  EDAD  \n",
       "0              NO           NO    51  "
      ]
     },
     "execution_count": 272,
     "metadata": {},
     "output_type": "execute_result"
    }
   ],
   "source": [
    "y=LabelEncoder().fit_transform(covid_3[\"TIPO PACIENTE\"])\n",
    "X=covid_3.drop([\"TIPO PACIENTE\"],axis=1)\n",
    "X.head(1)"
   ]
  },
  {
   "cell_type": "code",
   "execution_count": 273,
   "metadata": {},
   "outputs": [
    {
     "name": "stdout",
     "output_type": "stream",
     "text": [
      "model score: 0.777\n"
     ]
    }
   ],
   "source": [
    "# El score obtenido con el modelo.\n",
    "X_train, X_test, y_train, y_test = train_test_split(X, y, test_size=0.3)\n",
    "categorical_features = ['SEXO','OBESIDAD','DIABETES','EPOC','ASMA','CARDIOVASCULAR','RENAL CRONICA',\"INMUNOSUPRESION\",\"HIPERTENSION\"]\n",
    "numeric_features=['EDAD']\n",
    "modelo=modelo(X_train, y_train,numeric_features,categorical_features)\n",
    "print(\"model score: %.3f\" % modelo.score(X_test, y_test))"
   ]
  },
  {
   "cell_type": "code",
   "execution_count": 274,
   "metadata": {},
   "outputs": [
    {
     "data": {
      "text/plain": [
       "array([[0.68002863, 0.22330097],\n",
       "       [0.31997137, 0.77669903]])"
      ]
     },
     "execution_count": 274,
     "metadata": {},
     "output_type": "execute_result"
    },
    {
     "data": {
      "image/png": "[encoded data removed]",
      "text/plain": [
       "<Figure size 432x288 with 2 Axes>"
      ]
     },
     "metadata": {},
     "output_type": "display_data"
    }
   ],
   "source": [
    "# Obtenemos la matriz de confusión.\n",
    "\n",
    "import numpy as np\n",
    "from sklearn import svm\n",
    "from sklearn.datasets import make_blobs\n",
    "import matplotlib.pyplot as plt\n",
    "from sklearn import datasets\n",
    "from   sklearn.model_selection import train_test_split\n",
    "from sklearn import metrics\n",
    "\n",
    "disp=metrics.plot_confusion_matrix(modelo, X_test, y_test,normalize=\"pred\")\n",
    "disp.ax_.set_title(\"Matriz de Confusión\")\n",
    "disp.confusion_matrix"
   ]
  },
  {
   "cell_type": "code",
   "execution_count": 275,
   "metadata": {},
   "outputs": [],
   "source": [
    "# Obtenemos la curva ROC.\n",
    "\n",
    "probs = modelo.predict_proba(X_test)\n",
    "preds = probs[:,1]\n",
    "fpr, tpr, threshold = metrics.roc_curve(y_test, preds)\n",
    "roc_auc = metrics.auc(fpr, tpr)"
   ]
  },
  {
   "cell_type": "code",
   "execution_count": 276,
   "metadata": {},
   "outputs": [
    {
     "data": {
      "image/png": "[encoded data removed]",
      "text/plain": [
       "<Figure size 432x288 with 1 Axes>"
      ]
     },
     "metadata": {},
     "output_type": "display_data"
    }
   ],
   "source": [
    "plt.figure()\n",
    "plt.plot(fpr, tpr, label='GridSearchCV (area = %0.2f)' % roc_auc)\n",
    "plt.plot([0, 1], [0, 1],'r--')\n",
    "plt.xlim([0.0, 1.0])\n",
    "plt.ylim([0.0, 1.05])\n",
    "plt.xlabel('Tasa de falsos positivos')\n",
    "plt.ylabel('Tasa de verdaderos positivos')\n",
    "plt.title('curva ROC')\n",
    "plt.legend(loc=\"lower right\")\n",
    "plt.savefig('Hyp_ROC')\n",
    "plt.show()"
   ]
  },
  {
   "cell_type": "code",
   "execution_count": 277,
   "metadata": {},
   "outputs": [
    {
     "name": "stdout",
     "output_type": "stream",
     "text": [
      "Accuracy score:  0.6866666666666666\n",
      "Precision score:  0.7766990291262136\n",
      "Recall score:  0.15180265654648956\n",
      "F1 score:  0.25396825396825395\n"
     ]
    }
   ],
   "source": [
    "# Información adicional del modelo.\n",
    "\n",
    "predictions=modelo.predict(X_test)\n",
    "print('Accuracy score: ', format(accuracy_score(y_test, predictions)))\n",
    "print('Precision score: ', format(precision_score(y_test, predictions)))\n",
    "print('Recall score: ', format(recall_score(y_test, predictions)))\n",
    "print('F1 score: ', format(f1_score(y_test, predictions)))"
   ]
  },
  {
   "cell_type": "code",
   "execution_count": 278,
   "metadata": {},
   "outputs": [
    {
     "data": {
      "text/plain": [
       "(0.0, 1.0)"
      ]
     },
     "execution_count": 278,
     "metadata": {},
     "output_type": "execute_result"
    },
    {
     "data": {
      "image/png": "[encoded data removed]",
      "text/plain": [
       "<Figure size 432x288 with 1 Axes>"
      ]
     },
     "metadata": {},
     "output_type": "display_data"
    }
   ],
   "source": [
    "# Haga una gráfica de Precision-Recall vs Threshold.\n",
    "\n",
    "from sklearn.metrics import precision_recall_curve\n",
    "precision, recall, thresholds = precision_recall_curve(y_test, probs[:,1]) \n",
    "pr_auc = metrics.auc(recall, precision)\n",
    "plt.title(\"Precision-Recall vs Threshold\")\n",
    "plt.plot(thresholds, precision[: -1], \"b--\", label=\"Precision\")\n",
    "plt.plot(thresholds, recall[: -1], \"r--\", label=\"Recall\")\n",
    "plt.ylabel(\"Precision, Recall\")\n",
    "plt.xlabel(\"Threshold\")\n",
    "plt.legend(loc=\"lower left\")\n",
    "plt.ylim([0,1])"
   ]
  }
 ],
 "metadata": {
  "kernelspec": {
   "display_name": "Python 3",
   "language": "python",
   "name": "python3"
  },
  "language_info": {
   "codemirror_mode": {
    "name": "ipython",
    "version": 3
   },
   "file_extension": ".py",
   "mimetype": "text/x-python",
   "name": "python",
   "nbconvert_exporter": "python",
   "pygments_lexer": "ipython3",
   "version": "3.8.5"
  }
 },
 "nbformat": 4,
 "nbformat_minor": 4
}
