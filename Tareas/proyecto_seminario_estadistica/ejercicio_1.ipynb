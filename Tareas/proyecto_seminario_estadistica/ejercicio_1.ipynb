{
 "cells": [
  {
   "cell_type": "markdown",
   "metadata": {},
   "source": [
    "### Integrantes: \n",
    "\n",
    "* Cote Chavarría Héctor Alonso\n",
    "* García Reyes Carlos Alberto\n",
    "* Méndez Guzmán Guadalupe\n",
    "\n"
   ]
  },
  {
   "cell_type": "markdown",
   "metadata": {},
   "source": [
    "### Ejercicio 1"
   ]
  },
  {
   "cell_type": "markdown",
   "metadata": {},
   "source": [
    "Con los datos de COVID hacer una selección de variables:\n",
    "* Utilizar el AIC con forward, backward y stepwise.\n",
    "* Utilizar los criterios de BIC y Mallow Cp.\n",
    "* Si tuviese que eliminar dos variables cuales serı́an y porqué."
   ]
  },
  {
   "cell_type": "markdown",
   "metadata": {},
   "source": [
    "## Bibliotecas"
   ]
  },
  {
   "cell_type": "code",
   "execution_count": 2,
   "metadata": {},
   "outputs": [],
   "source": [
    "library(readr)\n",
    "library(faraway)#linealidad \n",
    "library(tseries)#acf \n",
    "library(nortest) #test de normalidad \n",
    "library(car) #para qqPlot y levene \n",
    "library(MASS) # contiene a la funcion stepAIC\n",
    "library(leaps) #posibles subconjuntos en seleccion de modelos\n",
    "library(olsrr) # contiene la funcion para cp de mallows\n",
    "library(FSinR) # contiene la funcion para cp de mallows"
   ]
  },
  {
   "cell_type": "markdown",
   "metadata": {},
   "source": [
    "## Datos "
   ]
  },
  {
   "cell_type": "code",
   "execution_count": 27,
   "metadata": {},
   "outputs": [
    {
     "name": "stderr",
     "output_type": "stream",
     "text": [
      "\n",
      "\u001b[36m──\u001b[39m \u001b[1m\u001b[1mColumn specification\u001b[1m\u001b[22m \u001b[36m────────────────────────────────────────────────────\u001b[39m\n",
      "cols(\n",
      "  NUM = \u001b[32mcol_double()\u001b[39m,\n",
      "  SEXO = \u001b[31mcol_character()\u001b[39m,\n",
      "  OBESIDAD = \u001b[31mcol_character()\u001b[39m,\n",
      "  DIABETES = \u001b[31mcol_character()\u001b[39m,\n",
      "  EPOC = \u001b[31mcol_character()\u001b[39m,\n",
      "  ASMA = \u001b[31mcol_character()\u001b[39m,\n",
      "  CARDIOVASCULAR = \u001b[31mcol_character()\u001b[39m,\n",
      "  RENALCRONICA = \u001b[31mcol_character()\u001b[39m,\n",
      "  INMUNOSUPRESION = \u001b[31mcol_character()\u001b[39m,\n",
      "  HIPERTENSION = \u001b[31mcol_character()\u001b[39m,\n",
      "  TIPOP = \u001b[32mcol_double()\u001b[39m,\n",
      "  EDAD = \u001b[32mcol_double()\u001b[39m\n",
      ")\n",
      "\n",
      "\n"
     ]
    }
   ],
   "source": [
    "#dataset=read_csv(\"~/Documentos/seminario_estadistica/proyecto/covid.csv\")\n",
    "#dataset=read_csv('~/Documentos/seminario_estadistica/proyecto/covid2.csv')\n",
    "dataset=read_csv('https://raw.githubusercontent.com/H-Cote/seminario_estadistica_tareas/main/datos/covid2.csv')\n",
    "\n",
    "#df=read.table(\"https://raw.githubusercontent.com/H-Cote/seminario_estadistica_tareas/main/covid.csv\",header = TRUE,sep = \",\", row.names = 1)\n",
    "df= as.data.frame(dataset)"
   ]
  },
  {
   "cell_type": "code",
   "execution_count": 28,
   "metadata": {},
   "outputs": [
    {
     "data": {
      "text/html": [
       "<table class=\"dataframe\">\n",
       "<caption>A data.frame: 6 × 12</caption>\n",
       "<thead>\n",
       "\t<tr><th></th><th scope=col>NUM</th><th scope=col>SEXO</th><th scope=col>OBESIDAD</th><th scope=col>DIABETES</th><th scope=col>EPOC</th><th scope=col>ASMA</th><th scope=col>CARDIOVASCULAR</th><th scope=col>RENALCRONICA</th><th scope=col>INMUNOSUPRESION</th><th scope=col>HIPERTENSION</th><th scope=col>TIPOP</th><th scope=col>EDAD</th></tr>\n",
       "\t<tr><th></th><th scope=col>&lt;dbl&gt;</th><th scope=col>&lt;chr&gt;</th><th scope=col>&lt;chr&gt;</th><th scope=col>&lt;chr&gt;</th><th scope=col>&lt;chr&gt;</th><th scope=col>&lt;chr&gt;</th><th scope=col>&lt;chr&gt;</th><th scope=col>&lt;chr&gt;</th><th scope=col>&lt;chr&gt;</th><th scope=col>&lt;chr&gt;</th><th scope=col>&lt;dbl&gt;</th><th scope=col>&lt;dbl&gt;</th></tr>\n",
       "</thead>\n",
       "<tbody>\n",
       "\t<tr><th scope=row>1</th><td>0</td><td>MUJER </td><td>NO</td><td>NO</td><td>NO</td><td>NO</td><td>NO</td><td>NO</td><td>NO</td><td>NO</td><td>0</td><td>51</td></tr>\n",
       "\t<tr><th scope=row>2</th><td>1</td><td>MUJER </td><td>NO</td><td>NO</td><td>NO</td><td>NO</td><td>NO</td><td>NO</td><td>NO</td><td>NO</td><td>0</td><td>37</td></tr>\n",
       "\t<tr><th scope=row>3</th><td>2</td><td>HOMBRE</td><td>NO</td><td>NO</td><td>NO</td><td>NO</td><td>NO</td><td>NO</td><td>NO</td><td>NO</td><td>0</td><td>18</td></tr>\n",
       "\t<tr><th scope=row>4</th><td>3</td><td>HOMBRE</td><td>NO</td><td>NO</td><td>NO</td><td>NO</td><td>NO</td><td>NO</td><td>NO</td><td>NO</td><td>0</td><td>40</td></tr>\n",
       "\t<tr><th scope=row>5</th><td>4</td><td>MUJER </td><td>NO</td><td>SI</td><td>NO</td><td>NO</td><td>NO</td><td>SI</td><td>NO</td><td>SI</td><td>1</td><td>78</td></tr>\n",
       "\t<tr><th scope=row>6</th><td>5</td><td>HOMBRE</td><td>NO</td><td>NO</td><td>NO</td><td>NO</td><td>NO</td><td>NO</td><td>NO</td><td>NO</td><td>0</td><td>67</td></tr>\n",
       "</tbody>\n",
       "</table>\n"
      ],
      "text/latex": [
       "A data.frame: 6 × 12\n",
       "\\begin{tabular}{r|llllllllllll}\n",
       "  & NUM & SEXO & OBESIDAD & DIABETES & EPOC & ASMA & CARDIOVASCULAR & RENALCRONICA & INMUNOSUPRESION & HIPERTENSION & TIPOP & EDAD\\\\\n",
       "  & <dbl> & <chr> & <chr> & <chr> & <chr> & <chr> & <chr> & <chr> & <chr> & <chr> & <dbl> & <dbl>\\\\\n",
       "\\hline\n",
       "\t1 & 0 & MUJER  & NO & NO & NO & NO & NO & NO & NO & NO & 0 & 51\\\\\n",
       "\t2 & 1 & MUJER  & NO & NO & NO & NO & NO & NO & NO & NO & 0 & 37\\\\\n",
       "\t3 & 2 & HOMBRE & NO & NO & NO & NO & NO & NO & NO & NO & 0 & 18\\\\\n",
       "\t4 & 3 & HOMBRE & NO & NO & NO & NO & NO & NO & NO & NO & 0 & 40\\\\\n",
       "\t5 & 4 & MUJER  & NO & SI & NO & NO & NO & SI & NO & SI & 1 & 78\\\\\n",
       "\t6 & 5 & HOMBRE & NO & NO & NO & NO & NO & NO & NO & NO & 0 & 67\\\\\n",
       "\\end{tabular}\n"
      ],
      "text/markdown": [
       "\n",
       "A data.frame: 6 × 12\n",
       "\n",
       "| <!--/--> | NUM &lt;dbl&gt; | SEXO &lt;chr&gt; | OBESIDAD &lt;chr&gt; | DIABETES &lt;chr&gt; | EPOC &lt;chr&gt; | ASMA &lt;chr&gt; | CARDIOVASCULAR &lt;chr&gt; | RENALCRONICA &lt;chr&gt; | INMUNOSUPRESION &lt;chr&gt; | HIPERTENSION &lt;chr&gt; | TIPOP &lt;dbl&gt; | EDAD &lt;dbl&gt; |\n",
       "|---|---|---|---|---|---|---|---|---|---|---|---|---|\n",
       "| 1 | 0 | MUJER  | NO | NO | NO | NO | NO | NO | NO | NO | 0 | 51 |\n",
       "| 2 | 1 | MUJER  | NO | NO | NO | NO | NO | NO | NO | NO | 0 | 37 |\n",
       "| 3 | 2 | HOMBRE | NO | NO | NO | NO | NO | NO | NO | NO | 0 | 18 |\n",
       "| 4 | 3 | HOMBRE | NO | NO | NO | NO | NO | NO | NO | NO | 0 | 40 |\n",
       "| 5 | 4 | MUJER  | NO | SI | NO | NO | NO | SI | NO | SI | 1 | 78 |\n",
       "| 6 | 5 | HOMBRE | NO | NO | NO | NO | NO | NO | NO | NO | 0 | 67 |\n",
       "\n"
      ],
      "text/plain": [
       "  NUM SEXO   OBESIDAD DIABETES EPOC ASMA CARDIOVASCULAR RENALCRONICA\n",
       "1 0   MUJER  NO       NO       NO   NO   NO             NO          \n",
       "2 1   MUJER  NO       NO       NO   NO   NO             NO          \n",
       "3 2   HOMBRE NO       NO       NO   NO   NO             NO          \n",
       "4 3   HOMBRE NO       NO       NO   NO   NO             NO          \n",
       "5 4   MUJER  NO       SI       NO   NO   NO             SI          \n",
       "6 5   HOMBRE NO       NO       NO   NO   NO             NO          \n",
       "  INMUNOSUPRESION HIPERTENSION TIPOP EDAD\n",
       "1 NO              NO           0     51  \n",
       "2 NO              NO           0     37  \n",
       "3 NO              NO           0     18  \n",
       "4 NO              NO           0     40  \n",
       "5 NO              SI           1     78  \n",
       "6 NO              NO           0     67  "
      ]
     },
     "metadata": {},
     "output_type": "display_data"
    }
   ],
   "source": [
    "head(df)"
   ]
  },
  {
   "cell_type": "code",
   "execution_count": 29,
   "metadata": {},
   "outputs": [],
   "source": [
    "# Estuve intentando con cada una de estas lineas pero en todas me regresa un error: \n",
    "\n",
    "nullmodel = lm(TIPOP ~1, data = df)\n",
    "#nullmodel = lm(TIPO.PACIENTE ~1, data = df,family= \"binomial\")\n",
    "#nullmodel = glm(TIPOP ~ 1, data = df)\n",
    "#nullmodel= lm(df$TIPO.PACIENTE~ 1, data = df)\n",
    "#nullmodel = lm(TIPO PACIENTE~ 1, data = df, family= \"binomial\")\n",
    "#nullmodel = lm(\"TIPO PACIENTE\"~ 1, data = df, family= \"binomial\")"
   ]
  },
  {
   "cell_type": "code",
   "execution_count": 30,
   "metadata": {},
   "outputs": [],
   "source": [
    "#fullmodel= lm(\"TIPO.PACIENTE\" ~ ., data=datos)\n",
    "fullmodel = glm(TIPOP ~1, data = df,family= \"binomial\")"
   ]
  },
  {
   "cell_type": "code",
   "execution_count": 31,
   "metadata": {},
   "outputs": [
    {
     "name": "stdout",
     "output_type": "stream",
     "text": [
      "Start:  AIC=-554020.3\n",
      "TIPOP ~ 1\n",
      "\n"
     ]
    },
    {
     "data": {
      "text/plain": [
       "\n",
       "Call:\n",
       "lm(formula = TIPOP ~ 1, data = df)\n",
       "\n",
       "Coefficients:\n",
       "(Intercept)  \n",
       "     0.2833  \n"
      ]
     },
     "metadata": {},
     "output_type": "display_data"
    }
   ],
   "source": [
    "stepAIC(nullmodel, scope=list(lower=nullmodel,upper=fullmodel), data=df,direction=\"forward\")\n"
   ]
  },
  {
   "cell_type": "code",
   "execution_count": 32,
   "metadata": {},
   "outputs": [
    {
     "name": "stdout",
     "output_type": "stream",
     "text": [
      "Start:  AIC=-554020.3\n",
      "TIPOP ~ 1\n",
      "\n"
     ]
    },
    {
     "data": {
      "text/plain": [
       "\n",
       "Call:\n",
       "lm(formula = TIPOP ~ 1, data = df)\n",
       "\n",
       "Coefficients:\n",
       "(Intercept)  \n",
       "     0.2833  \n"
      ]
     },
     "metadata": {},
     "output_type": "display_data"
    }
   ],
   "source": [
    "stepAIC(nullmodel, scope=list(lower=nullmodel,upper=fullmodel), data=df,direction=\"backward\")"
   ]
  },
  {
   "cell_type": "code",
   "execution_count": 33,
   "metadata": {},
   "outputs": [
    {
     "name": "stdout",
     "output_type": "stream",
     "text": [
      "Start:  AIC=-554020.3\n",
      "TIPOP ~ 1\n",
      "\n"
     ]
    },
    {
     "data": {
      "text/plain": [
       "\n",
       "Call:\n",
       "lm(formula = TIPOP ~ 1, data = df)\n",
       "\n",
       "Coefficients:\n",
       "(Intercept)  \n",
       "     0.2833  \n"
      ]
     },
     "metadata": {},
     "output_type": "display_data"
    }
   ],
   "source": [
    "stepAIC(nullmodel, scope=list(lower=nullmodel,upper=fullmodel), data=df,direction=\"both\")"
   ]
  },
  {
   "cell_type": "markdown",
   "metadata": {},
   "source": [
    "Se presentaron problemas con la base de datos \"covid.csv\", por lo cual los modelos nullmodel y fullmodel no pudieron definirse de acuerdo con las especificaciones de la funcion lm() en R. Se realizaron modificaciones a la base de datos para arreglar el problema, la cuales se muestran en el siguiente enlace:https://github.com/H-Cote/seminario_estadistica_tareas/tree/main/datos. Sin embargo, en ningún caso la base fue adecuada. \n",
    "\n",
    "Por lo anterior, utilicé la base \"home.csv\" para ejemplificar el procedimiento que se debió realizar con la base \"covid.csv\". "
   ]
  },
  {
   "cell_type": "markdown",
   "metadata": {},
   "source": [
    "## Datos"
   ]
  },
  {
   "cell_type": "code",
   "execution_count": 3,
   "metadata": {},
   "outputs": [
    {
     "name": "stderr",
     "output_type": "stream",
     "text": [
      "\n",
      "\u001b[36m──\u001b[39m \u001b[1m\u001b[1mColumn specification\u001b[1m\u001b[22m \u001b[36m────────────────────────────────────────────────────\u001b[39m\n",
      "cols(\n",
      "  Sell = \u001b[32mcol_double()\u001b[39m,\n",
      "  List = \u001b[32mcol_double()\u001b[39m,\n",
      "  Living = \u001b[32mcol_double()\u001b[39m,\n",
      "  Rooms = \u001b[32mcol_double()\u001b[39m,\n",
      "  Beds = \u001b[32mcol_double()\u001b[39m,\n",
      "  Baths = \u001b[32mcol_double()\u001b[39m,\n",
      "  Age = \u001b[32mcol_double()\u001b[39m,\n",
      "  Acres = \u001b[32mcol_double()\u001b[39m,\n",
      "  Taxes = \u001b[32mcol_double()\u001b[39m\n",
      ")\n",
      "\n",
      "\n"
     ]
    },
    {
     "data": {
      "text/html": [
       "<table class=\"dataframe\">\n",
       "<caption>A data.frame: 6 × 9</caption>\n",
       "<thead>\n",
       "\t<tr><th></th><th scope=col>Sell</th><th scope=col>List</th><th scope=col>Living</th><th scope=col>Rooms</th><th scope=col>Beds</th><th scope=col>Baths</th><th scope=col>Age</th><th scope=col>Acres</th><th scope=col>Taxes</th></tr>\n",
       "\t<tr><th></th><th scope=col>&lt;dbl&gt;</th><th scope=col>&lt;dbl&gt;</th><th scope=col>&lt;dbl&gt;</th><th scope=col>&lt;dbl&gt;</th><th scope=col>&lt;dbl&gt;</th><th scope=col>&lt;dbl&gt;</th><th scope=col>&lt;dbl&gt;</th><th scope=col>&lt;dbl&gt;</th><th scope=col>&lt;dbl&gt;</th></tr>\n",
       "</thead>\n",
       "<tbody>\n",
       "\t<tr><th scope=row>1</th><td>142</td><td>160</td><td>28</td><td>10</td><td>5</td><td>3</td><td>60</td><td>0.28</td><td>3167</td></tr>\n",
       "\t<tr><th scope=row>2</th><td>175</td><td>180</td><td>18</td><td> 8</td><td>4</td><td>1</td><td>12</td><td>0.43</td><td>4033</td></tr>\n",
       "\t<tr><th scope=row>3</th><td>129</td><td>132</td><td>13</td><td> 6</td><td>3</td><td>1</td><td>41</td><td>0.33</td><td>1471</td></tr>\n",
       "\t<tr><th scope=row>4</th><td>138</td><td>140</td><td>17</td><td> 7</td><td>3</td><td>1</td><td>22</td><td>0.46</td><td>3204</td></tr>\n",
       "\t<tr><th scope=row>5</th><td>232</td><td>240</td><td>25</td><td> 8</td><td>4</td><td>3</td><td> 5</td><td>2.05</td><td>3613</td></tr>\n",
       "\t<tr><th scope=row>6</th><td>135</td><td>140</td><td>18</td><td> 7</td><td>4</td><td>3</td><td> 9</td><td>0.57</td><td>3028</td></tr>\n",
       "</tbody>\n",
       "</table>\n"
      ],
      "text/latex": [
       "A data.frame: 6 × 9\n",
       "\\begin{tabular}{r|lllllllll}\n",
       "  & Sell & List & Living & Rooms & Beds & Baths & Age & Acres & Taxes\\\\\n",
       "  & <dbl> & <dbl> & <dbl> & <dbl> & <dbl> & <dbl> & <dbl> & <dbl> & <dbl>\\\\\n",
       "\\hline\n",
       "\t1 & 142 & 160 & 28 & 10 & 5 & 3 & 60 & 0.28 & 3167\\\\\n",
       "\t2 & 175 & 180 & 18 &  8 & 4 & 1 & 12 & 0.43 & 4033\\\\\n",
       "\t3 & 129 & 132 & 13 &  6 & 3 & 1 & 41 & 0.33 & 1471\\\\\n",
       "\t4 & 138 & 140 & 17 &  7 & 3 & 1 & 22 & 0.46 & 3204\\\\\n",
       "\t5 & 232 & 240 & 25 &  8 & 4 & 3 &  5 & 2.05 & 3613\\\\\n",
       "\t6 & 135 & 140 & 18 &  7 & 4 & 3 &  9 & 0.57 & 3028\\\\\n",
       "\\end{tabular}\n"
      ],
      "text/markdown": [
       "\n",
       "A data.frame: 6 × 9\n",
       "\n",
       "| <!--/--> | Sell &lt;dbl&gt; | List &lt;dbl&gt; | Living &lt;dbl&gt; | Rooms &lt;dbl&gt; | Beds &lt;dbl&gt; | Baths &lt;dbl&gt; | Age &lt;dbl&gt; | Acres &lt;dbl&gt; | Taxes &lt;dbl&gt; |\n",
       "|---|---|---|---|---|---|---|---|---|---|\n",
       "| 1 | 142 | 160 | 28 | 10 | 5 | 3 | 60 | 0.28 | 3167 |\n",
       "| 2 | 175 | 180 | 18 |  8 | 4 | 1 | 12 | 0.43 | 4033 |\n",
       "| 3 | 129 | 132 | 13 |  6 | 3 | 1 | 41 | 0.33 | 1471 |\n",
       "| 4 | 138 | 140 | 17 |  7 | 3 | 1 | 22 | 0.46 | 3204 |\n",
       "| 5 | 232 | 240 | 25 |  8 | 4 | 3 |  5 | 2.05 | 3613 |\n",
       "| 6 | 135 | 140 | 18 |  7 | 4 | 3 |  9 | 0.57 | 3028 |\n",
       "\n"
      ],
      "text/plain": [
       "  Sell List Living Rooms Beds Baths Age Acres Taxes\n",
       "1 142  160  28     10    5    3     60  0.28  3167 \n",
       "2 175  180  18      8    4    1     12  0.43  4033 \n",
       "3 129  132  13      6    3    1     41  0.33  1471 \n",
       "4 138  140  17      7    3    1     22  0.46  3204 \n",
       "5 232  240  25      8    4    3      5  2.05  3613 \n",
       "6 135  140  18      7    4    3      9  0.57  3028 "
      ]
     },
     "metadata": {},
     "output_type": "display_data"
    }
   ],
   "source": [
    "#dataset=read_csv(\"~/Documentos/seminario_estadistica/proyecto/ejemplo/homes.csv\")\n",
    "dataset=read_csv(\"https://raw.githubusercontent.com/H-Cote/seminario_estadistica_tareas/main/homes.csv\")\n",
    "\n",
    "datos= as.data.frame(dataset)\n",
    "head(datos)"
   ]
  },
  {
   "cell_type": "code",
   "execution_count": 4,
   "metadata": {},
   "outputs": [
    {
     "data": {
      "text/html": [
       "<style>\n",
       ".list-inline {list-style: none; margin:0; padding: 0}\n",
       ".list-inline>li {display: inline-block}\n",
       ".list-inline>li:not(:last-child)::after {content: \"\\00b7\"; padding: 0 .5ex}\n",
       "</style>\n",
       "<ol class=list-inline><li>50</li><li>9</li></ol>\n"
      ],
      "text/latex": [
       "\\begin{enumerate*}\n",
       "\\item 50\n",
       "\\item 9\n",
       "\\end{enumerate*}\n"
      ],
      "text/markdown": [
       "1. 50\n",
       "2. 9\n",
       "\n",
       "\n"
      ],
      "text/plain": [
       "[1] 50  9"
      ]
     },
     "metadata": {},
     "output_type": "display_data"
    }
   ],
   "source": [
    "dim(datos)"
   ]
  },
  {
   "cell_type": "markdown",
   "metadata": {},
   "source": [
    "Defimos los modelos completo y nulo, en función de la variable \"Sell\" (con la base original la variable deberia ser \"TIPO PACIENTE\")"
   ]
  },
  {
   "cell_type": "code",
   "execution_count": 5,
   "metadata": {},
   "outputs": [],
   "source": [
    "nullmodel= lm(Sell~ 1, data=datos)\n",
    "\n",
    "fullmodel= lm(Sell ~ ., data=datos)"
   ]
  },
  {
   "cell_type": "code",
   "execution_count": 6,
   "metadata": {},
   "outputs": [
    {
     "data": {
      "text/plain": [
       "\n",
       "Call:\n",
       "lm(formula = Sell ~ 1, data = datos)\n",
       "\n",
       "Residuals:\n",
       "   Min     1Q Median     3Q    Max \n",
       "-83.36 -35.36 -18.36  11.89 396.64 \n",
       "\n",
       "Coefficients:\n",
       "            Estimate Std. Error t value Pr(>|t|)    \n",
       "(Intercept)   170.36      10.29   16.56   <2e-16 ***\n",
       "---\n",
       "Signif. codes:  0 ‘***’ 0.001 ‘**’ 0.01 ‘*’ 0.05 ‘.’ 0.1 ‘ ’ 1\n",
       "\n",
       "Residual standard error: 72.76 on 49 degrees of freedom\n"
      ]
     },
     "metadata": {},
     "output_type": "display_data"
    }
   ],
   "source": [
    "summary(nullmodel)"
   ]
  },
  {
   "cell_type": "code",
   "execution_count": 7,
   "metadata": {},
   "outputs": [
    {
     "data": {
      "text/plain": [
       "\n",
       "Call:\n",
       "lm(formula = Sell ~ ., data = datos)\n",
       "\n",
       "Residuals:\n",
       "   Min     1Q Median     3Q    Max \n",
       "-9.799 -2.064  0.367  2.565  8.964 \n",
       "\n",
       "Coefficients:\n",
       "             Estimate Std. Error t value Pr(>|t|)    \n",
       "(Intercept)  3.341267   5.278974   0.633  0.53029    \n",
       "List         0.979630   0.028929  33.863  < 2e-16 ***\n",
       "Living      -0.445901   0.254722  -1.751  0.08751 .  \n",
       "Rooms       -1.119242   1.058200  -1.058  0.29639    \n",
       "Beds         4.376816   1.380973   3.169  0.00289 ** \n",
       "Baths       -0.245790   1.319661  -0.186  0.85317    \n",
       "Age         -0.021062   0.029862  -0.705  0.48462    \n",
       "Acres        0.544154   0.667827   0.815  0.41989    \n",
       "Taxes       -0.001465   0.001044  -1.403  0.16811    \n",
       "---\n",
       "Signif. codes:  0 ‘***’ 0.001 ‘**’ 0.01 ‘*’ 0.05 ‘.’ 0.1 ‘ ’ 1\n",
       "\n",
       "Residual standard error: 4.686 on 41 degrees of freedom\n",
       "Multiple R-squared:  0.9965,\tAdjusted R-squared:  0.9959 \n",
       "F-statistic:  1471 on 8 and 41 DF,  p-value: < 2.2e-16\n"
      ]
     },
     "metadata": {},
     "output_type": "display_data"
    }
   ],
   "source": [
    "summary(fullmodel)"
   ]
  },
  {
   "cell_type": "markdown",
   "metadata": {},
   "source": [
    "# AIC Forward"
   ]
  },
  {
   "cell_type": "code",
   "execution_count": 8,
   "metadata": {},
   "outputs": [
    {
     "name": "stdout",
     "output_type": "stream",
     "text": [
      "Start:  AIC=429.7\n",
      "Sell ~ 1\n",
      "\n",
      "         Df Sum of Sq    RSS    AIC\n",
      "+ List    1    258047   1330 168.05\n",
      "+ Taxes   1    209787  49590 348.98\n",
      "+ Living  1    200580  58798 357.49\n",
      "+ Baths   1    106261 153117 405.35\n",
      "+ Rooms   1     81464 177913 412.85\n",
      "+ Beds    1     29128 230249 425.74\n",
      "<none>                259378 429.70\n",
      "+ Acres   1      7383 251995 430.26\n",
      "+ Age     1      5631 253746 430.60\n",
      "\n",
      "Step:  AIC=168.05\n",
      "Sell ~ List\n",
      "\n",
      "         Df Sum of Sq    RSS    AIC\n",
      "+ Living  1   125.186 1204.9 165.11\n",
      "+ Age     1    79.453 1250.7 166.97\n",
      "+ Beds    1    69.147 1261.0 167.38\n",
      "<none>                1330.1 168.05\n",
      "+ Taxes   1    35.986 1294.1 168.68\n",
      "+ Rooms   1    29.880 1300.2 168.91\n",
      "+ Acres   1     1.417 1328.7 170.00\n",
      "+ Baths   1     0.871 1329.3 170.02\n",
      "\n",
      "Step:  AIC=165.11\n",
      "Sell ~ List + Living\n",
      "\n",
      "        Df Sum of Sq     RSS    AIC\n",
      "+ Beds   1   207.509  997.43 157.66\n",
      "<none>               1204.94 165.11\n",
      "+ Taxes  1    34.687 1170.25 165.65\n",
      "+ Baths  1    17.990 1186.95 166.36\n",
      "+ Age    1    11.828 1193.11 166.62\n",
      "+ Rooms  1     5.741 1199.20 166.87\n",
      "+ Acres  1     3.664 1201.28 166.96\n",
      "\n",
      "Step:  AIC=157.66\n",
      "Sell ~ List + Living + Beds\n",
      "\n",
      "        Df Sum of Sq    RSS    AIC\n",
      "+ Taxes  1    45.617 951.81 157.32\n",
      "<none>               997.43 157.66\n",
      "+ Rooms  1    27.506 969.93 158.26\n",
      "+ Age    1     7.986 989.45 159.26\n",
      "+ Acres  1     6.945 990.49 159.31\n",
      "+ Baths  1     0.205 997.23 159.65\n",
      "\n",
      "Step:  AIC=157.32\n",
      "Sell ~ List + Living + Beds + Taxes\n",
      "\n",
      "        Df Sum of Sq    RSS    AIC\n",
      "<none>               951.81 157.32\n",
      "+ Rooms  1   30.9339 920.88 157.66\n",
      "+ Age    1   18.5551 933.26 158.33\n",
      "+ Acres  1    1.4036 950.41 159.24\n",
      "+ Baths  1    0.1376 951.68 159.31\n"
     ]
    },
    {
     "data": {
      "text/plain": [
       "\n",
       "Call:\n",
       "lm(formula = Sell ~ List + Living + Beds + Taxes, data = datos)\n",
       "\n",
       "Coefficients:\n",
       "(Intercept)         List       Living         Beds        Taxes  \n",
       "   -0.82639      0.99431     -0.68153      3.56784     -0.00145  \n"
      ]
     },
     "metadata": {},
     "output_type": "display_data"
    }
   ],
   "source": [
    "stepAIC(nullmodel, scope=list(lower=nullmodel,upper=fullmodel), data=dataset,direction=\"forward\")\n"
   ]
  },
  {
   "cell_type": "markdown",
   "metadata": {},
   "source": [
    "# AIC backward"
   ]
  },
  {
   "cell_type": "code",
   "execution_count": 9,
   "metadata": {},
   "outputs": [
    {
     "name": "stdout",
     "output_type": "stream",
     "text": [
      "Start:  AIC=429.7\n",
      "Sell ~ 1\n",
      "\n"
     ]
    },
    {
     "data": {
      "text/plain": [
       "\n",
       "Call:\n",
       "lm(formula = Sell ~ 1, data = datos)\n",
       "\n",
       "Coefficients:\n",
       "(Intercept)  \n",
       "      170.4  \n"
      ]
     },
     "metadata": {},
     "output_type": "display_data"
    }
   ],
   "source": [
    "stepAIC(nullmodel, scope=list(lower=nullmodel,upper=fullmodel), data=dataset,direction=\"backward\")\n"
   ]
  },
  {
   "cell_type": "markdown",
   "metadata": {},
   "source": [
    "# AIC  stepwise"
   ]
  },
  {
   "cell_type": "code",
   "execution_count": 10,
   "metadata": {},
   "outputs": [
    {
     "name": "stdout",
     "output_type": "stream",
     "text": [
      "Start:  AIC=429.7\n",
      "Sell ~ 1\n",
      "\n",
      "         Df Sum of Sq    RSS    AIC\n",
      "+ List    1    258047   1330 168.05\n",
      "+ Taxes   1    209787  49590 348.98\n",
      "+ Living  1    200580  58798 357.49\n",
      "+ Baths   1    106261 153117 405.35\n",
      "+ Rooms   1     81464 177913 412.85\n",
      "+ Beds    1     29128 230249 425.74\n",
      "<none>                259378 429.70\n",
      "+ Acres   1      7383 251995 430.26\n",
      "+ Age     1      5631 253746 430.60\n",
      "\n",
      "Step:  AIC=168.05\n",
      "Sell ~ List\n",
      "\n",
      "         Df Sum of Sq    RSS    AIC\n",
      "+ Living  1       125   1205 165.11\n",
      "+ Age     1        79   1251 166.97\n",
      "+ Beds    1        69   1261 167.38\n",
      "<none>                  1330 168.05\n",
      "+ Taxes   1        36   1294 168.68\n",
      "+ Rooms   1        30   1300 168.91\n",
      "+ Acres   1         1   1329 170.00\n",
      "+ Baths   1         1   1329 170.02\n",
      "- List    1    258047 259378 429.70\n",
      "\n",
      "Step:  AIC=165.11\n",
      "Sell ~ List + Living\n",
      "\n",
      "         Df Sum of Sq   RSS    AIC\n",
      "+ Beds    1       208   997 157.66\n",
      "<none>                 1205 165.11\n",
      "+ Taxes   1        35  1170 165.65\n",
      "+ Baths   1        18  1187 166.36\n",
      "+ Age     1        12  1193 166.61\n",
      "+ Rooms   1         6  1199 166.87\n",
      "+ Acres   1         4  1201 166.96\n",
      "- Living  1       125  1330 168.05\n",
      "- List    1     57593 58798 357.49\n",
      "\n",
      "Step:  AIC=157.66\n",
      "Sell ~ List + Living + Beds\n",
      "\n",
      "         Df Sum of Sq   RSS    AIC\n",
      "+ Taxes   1        46   952 157.32\n",
      "<none>                  997 157.66\n",
      "+ Rooms   1        28   970 158.26\n",
      "+ Age     1         8   989 159.26\n",
      "+ Acres   1         7   990 159.31\n",
      "+ Baths   1         0   997 159.65\n",
      "- Beds    1       208  1205 165.11\n",
      "- Living  1       264  1261 167.38\n",
      "- List    1     55894 56891 357.84\n",
      "\n",
      "Step:  AIC=157.32\n",
      "Sell ~ List + Living + Beds + Taxes\n",
      "\n",
      "         Df Sum of Sq   RSS    AIC\n",
      "<none>                  952 157.32\n",
      "- Taxes   1      45.6   997 157.66\n",
      "+ Rooms   1      30.9   921 157.67\n",
      "+ Age     1      18.6   933 158.33\n",
      "+ Acres   1       1.4   950 159.24\n",
      "+ Baths   1       0.1   952 159.31\n",
      "- Beds    1     218.4  1170 165.65\n",
      "- Living  1     267.0  1219 167.68\n",
      "- List    1   30938.5 31890 330.90\n"
     ]
    },
    {
     "data": {
      "text/plain": [
       "\n",
       "Call:\n",
       "lm(formula = Sell ~ List + Living + Beds + Taxes, data = datos)\n",
       "\n",
       "Coefficients:\n",
       "(Intercept)         List       Living         Beds        Taxes  \n",
       "   -0.82639      0.99431     -0.68153      3.56784     -0.00145  \n"
      ]
     },
     "metadata": {},
     "output_type": "display_data"
    }
   ],
   "source": [
    "stepAIC(nullmodel, scope=list(lower=nullmodel,upper=fullmodel), data=dataset,direction=\"both\")"
   ]
  },
  {
   "cell_type": "markdown",
   "metadata": {},
   "source": [
    "### Resultados"
   ]
  },
  {
   "cell_type": "markdown",
   "metadata": {},
   "source": [
    "Stepwise: List + Living + Beds + Taxes \n",
    "\n",
    "backward: N/A \n",
    "\n",
    "Forward: List + Living + Beds + Taxes"
   ]
  },
  {
   "cell_type": "markdown",
   "metadata": {},
   "source": [
    "Los resultados anteriores nos indican que la variable \"Sell\" depende de los parámetros: List, Living, Beds y Taxes"
   ]
  },
  {
   "cell_type": "markdown",
   "metadata": {},
   "source": [
    "Para utilizar las funciones BIC y Mallow Cp, definimos los siguientes modelos:"
   ]
  },
  {
   "cell_type": "code",
   "execution_count": 26,
   "metadata": {},
   "outputs": [],
   "source": [
    "model_1= lm(Sell~ List, data=datos)\n",
    "model_2= lm(Sell~ List+Living, data=datos)\n",
    "model_3= lm(Sell~ List+Living+Beds, data=datos)\n",
    "model_4= lm(Sell~ List+Living+Beds+Baths, data=datos)\n",
    "model_5= lm(Sell~ List+Living+Beds+Baths+Age, data=datos)\n",
    "model_6= lm(Sell~ List+Living+Beds+Baths+Age+Acres, data=datos)"
   ]
  },
  {
   "cell_type": "markdown",
   "metadata": {},
   "source": [
    "# BIC "
   ]
  },
  {
   "cell_type": "code",
   "execution_count": 12,
   "metadata": {},
   "outputs": [
    {
     "data": {
      "text/html": [
       "325.557886274489"
      ],
      "text/latex": [
       "325.557886274489"
      ],
      "text/markdown": [
       "325.557886274489"
      ],
      "text/plain": [
       "[1] 325.5579"
      ]
     },
     "metadata": {},
     "output_type": "display_data"
    }
   ],
   "source": [
    "\n",
    "BIC(fullmodel)"
   ]
  },
  {
   "cell_type": "code",
   "execution_count": 12,
   "metadata": {},
   "outputs": [
    {
     "data": {
      "text/html": [
       "321.618206724753"
      ],
      "text/latex": [
       "321.618206724753"
      ],
      "text/markdown": [
       "321.618206724753"
      ],
      "text/plain": [
       "[1] 321.6182"
      ]
     },
     "metadata": {},
     "output_type": "display_data"
    }
   ],
   "source": [
    "BIC(model_6)"
   ]
  },
  {
   "cell_type": "code",
   "execution_count": 13,
   "metadata": {},
   "outputs": [
    {
     "data": {
      "text/html": [
       "318.531480568901"
      ],
      "text/latex": [
       "318.531480568901"
      ],
      "text/markdown": [
       "318.531480568901"
      ],
      "text/plain": [
       "[1] 318.5315"
      ]
     },
     "metadata": {},
     "output_type": "display_data"
    }
   ],
   "source": [
    "BIC(model_5)"
   ]
  },
  {
   "cell_type": "code",
   "execution_count": 14,
   "metadata": {},
   "outputs": [
    {
     "data": {
      "text/html": [
       "315.013752009183"
      ],
      "text/latex": [
       "315.013752009183"
      ],
      "text/markdown": [
       "315.013752009183"
      ],
      "text/plain": [
       "[1] 315.0138"
      ]
     },
     "metadata": {},
     "output_type": "display_data"
    }
   ],
   "source": [
    "BIC(model_4)"
   ]
  },
  {
   "cell_type": "code",
   "execution_count": 15,
   "metadata": {},
   "outputs": [
    {
     "data": {
      "text/html": [
       "311.112020988916"
      ],
      "text/latex": [
       "311.112020988916"
      ],
      "text/markdown": [
       "311.112020988916"
      ],
      "text/plain": [
       "[1] 311.112"
      ]
     },
     "metadata": {},
     "output_type": "display_data"
    }
   ],
   "source": [
    "BIC(model_3)"
   ]
  },
  {
   "cell_type": "code",
   "execution_count": 16,
   "metadata": {},
   "outputs": [
    {
     "data": {
      "text/html": [
       "316.650110020242"
      ],
      "text/latex": [
       "316.650110020242"
      ],
      "text/markdown": [
       "316.650110020242"
      ],
      "text/plain": [
       "[1] 316.6501"
      ]
     },
     "metadata": {},
     "output_type": "display_data"
    }
   ],
   "source": [
    "BIC(model_2)"
   ]
  },
  {
   "cell_type": "code",
   "execution_count": 17,
   "metadata": {},
   "outputs": [
    {
     "data": {
      "text/html": [
       "317.68029431839"
      ],
      "text/latex": [
       "317.68029431839"
      ],
      "text/markdown": [
       "317.68029431839"
      ],
      "text/plain": [
       "[1] 317.6803"
      ]
     },
     "metadata": {},
     "output_type": "display_data"
    }
   ],
   "source": [
    "BIC(model_1)"
   ]
  },
  {
   "cell_type": "code",
   "execution_count": 18,
   "metadata": {},
   "outputs": [
    {
     "data": {
      "text/html": [
       "577.418743339044"
      ],
      "text/latex": [
       "577.418743339044"
      ],
      "text/markdown": [
       "577.418743339044"
      ],
      "text/plain": [
       "[1] 577.4187"
      ]
     },
     "metadata": {},
     "output_type": "display_data"
    }
   ],
   "source": [
    "BIC(nullmodel)"
   ]
  },
  {
   "cell_type": "markdown",
   "metadata": {},
   "source": [
    "En este caso el mejor modelo es aquel con  un menor valor de penalización, el cual corresponde al modelo 3, que comprende los parámetros: List, Living y Beds "
   ]
  },
  {
   "cell_type": "markdown",
   "metadata": {},
   "source": [
    "# Mallow Cp"
   ]
  },
  {
   "cell_type": "code",
   "execution_count": 19,
   "metadata": {},
   "outputs": [
    {
     "data": {
      "text/html": [
       "8.31217171801396"
      ],
      "text/latex": [
       "8.31217171801396"
      ],
      "text/markdown": [
       "8.31217171801396"
      ],
      "text/plain": [
       "[1] 8.312172"
      ]
     },
     "metadata": {},
     "output_type": "display_data"
    }
   ],
   "source": [
    "ols_mallows_cp(model_6, fullmodel)"
   ]
  },
  {
   "cell_type": "code",
   "execution_count": 20,
   "metadata": {},
   "outputs": [
    {
     "data": {
      "text/html": [
       "7.04965531763627"
      ],
      "text/latex": [
       "7.04965531763627"
      ],
      "text/markdown": [
       "7.04965531763627"
      ],
      "text/plain": [
       "[1] 7.049655"
      ]
     },
     "metadata": {},
     "output_type": "display_data"
    }
   ],
   "source": [
    "ols_mallows_cp(model_5, fullmodel)\n"
   ]
  },
  {
   "cell_type": "code",
   "execution_count": 21,
   "metadata": {},
   "outputs": [
    {
     "data": {
      "text/html": [
       "5.40631634138957"
      ],
      "text/latex": [
       "5.40631634138957"
      ],
      "text/markdown": [
       "5.40631634138957"
      ],
      "text/plain": [
       "[1] 5.406316"
      ]
     },
     "metadata": {},
     "output_type": "display_data"
    }
   ],
   "source": [
    "ols_mallows_cp(model_4, fullmodel)\n"
   ]
  },
  {
   "cell_type": "code",
   "execution_count": 22,
   "metadata": {},
   "outputs": [
    {
     "data": {
      "text/html": [
       "3.41566372606804"
      ],
      "text/latex": [
       "3.41566372606804"
      ],
      "text/markdown": [
       "3.41566372606804"
      ],
      "text/plain": [
       "[1] 3.415664"
      ]
     },
     "metadata": {},
     "output_type": "display_data"
    }
   ],
   "source": [
    "ols_mallows_cp(model_3, fullmodel)\n"
   ]
  },
  {
   "cell_type": "code",
   "execution_count": 23,
   "metadata": {},
   "outputs": [
    {
     "data": {
      "text/html": [
       "10.864104601068"
      ],
      "text/latex": [
       "10.864104601068"
      ],
      "text/markdown": [
       "10.864104601068"
      ],
      "text/plain": [
       "[1] 10.8641"
      ]
     },
     "metadata": {},
     "output_type": "display_data"
    }
   ],
   "source": [
    "ols_mallows_cp(model_2, fullmodel)\n"
   ]
  },
  {
   "cell_type": "code",
   "execution_count": 24,
   "metadata": {},
   "outputs": [
    {
     "data": {
      "text/html": [
       "14.5641690462384"
      ],
      "text/latex": [
       "14.5641690462384"
      ],
      "text/markdown": [
       "14.5641690462384"
      ],
      "text/plain": [
       "[1] 14.56417"
      ]
     },
     "metadata": {},
     "output_type": "display_data"
    }
   ],
   "source": [
    "ols_mallows_cp(model_1, fullmodel)\n"
   ]
  },
  {
   "cell_type": "code",
   "execution_count": 25,
   "metadata": {},
   "outputs": [
    {
     "data": {
      "text/html": [
       "11762.129670644"
      ],
      "text/latex": [
       "11762.129670644"
      ],
      "text/markdown": [
       "11762.129670644"
      ],
      "text/plain": [
       "[1] 11762.13"
      ]
     },
     "metadata": {},
     "output_type": "display_data"
    }
   ],
   "source": [
    "ols_mallows_cp(nullmodel, fullmodel)\n"
   ]
  },
  {
   "cell_type": "markdown",
   "metadata": {},
   "source": [
    "En este caso, el mejor modelo es aquel con un valor de Mallow Cp menor, ya que esto implica que tienen una menor cantidad de errores no explicados. Por lo anterior, el modelo 3 es el más adecuado, el cual comprende los parámetros: List, Living y Beds\n",
    "\n",
    "Con base en los resultados anteriores, el mejor modelo es moldel_3 con los parámetros List, Living y Beds. Por lo que las funciones BIC y Mallow Cp nos sugieren retirar el parámetro Taxes sugerido por el modelo AIC. "
   ]
  },
  {
   "cell_type": "markdown",
   "metadata": {},
   "source": [
    ":::python\n",
    "import pandas as pd"
   ]
  },
  {
   "cell_type": "code",
   "execution_count": null,
   "metadata": {},
   "outputs": [],
   "source": []
  }
 ],
 "metadata": {
  "kernelspec": {
   "display_name": "R",
   "language": "R",
   "name": "ir"
  },
  "language_info": {
   "codemirror_mode": "r",
   "file_extension": ".r",
   "mimetype": "text/x-r-source",
   "name": "R",
   "pygments_lexer": "r",
   "version": "4.0.3"
  }
 },
 "nbformat": 4,
 "nbformat_minor": 4
}
